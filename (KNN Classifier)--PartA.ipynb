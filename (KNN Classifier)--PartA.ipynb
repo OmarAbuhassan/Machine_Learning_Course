{
 "cells": [
  {
   "cell_type": "markdown",
   "metadata": {
    "id": "oDkN0CZI4bEO"
   },
   "source": [
    "# (KNN Classifier)--PartA\n",
    "## Handwritten digit recognition\n",
    "In this assignment partA, we will use the built-in library ``sklearn`` to use KNN classifier."
   ]
  },
  {
   "cell_type": "markdown",
   "metadata": {
    "id": "90_n3eEq4bES"
   },
   "source": [
    "## The MNIST dataset\n",
    "`MNIST` is a classic dataset in machine learning, consisting of 28x28 gray-scale images handwritten digits. The training set contains 60,000 examples and the test set contains 10,000 examples. In this assignment we will further split the training set to take out 12,000 examples as a validation step."
   ]
  },
  {
   "cell_type": "code",
   "execution_count": 1,
   "metadata": {
    "executionInfo": {
     "elapsed": 353,
     "status": "ok",
     "timestamp": 1633812738484,
     "user": {
      "displayName": "Omar Abu Hassan",
      "photoUrl": "https://lh3.googleusercontent.com/a/default-user=s64",
      "userId": "03712834313837095023"
     },
     "user_tz": -180
    },
    "id": "8wyijUcj4bET"
   },
   "outputs": [],
   "source": [
    "%matplotlib inline\n",
    "import gzip, os\n",
    "import numpy as np\n",
    "import matplotlib.pyplot as plt\n",
    "import time\n",
    "from urllib.request import urlretrieve"
   ]
  },
  {
   "cell_type": "code",
   "execution_count": 2,
   "metadata": {
    "executionInfo": {
     "elapsed": 452,
     "status": "ok",
     "timestamp": 1633812815552,
     "user": {
      "displayName": "Omar Abu Hassan",
      "photoUrl": "https://lh3.googleusercontent.com/a/default-user=s64",
      "userId": "03712834313837095023"
     },
     "user_tz": -180
    },
    "id": "nPdmRNBg4bEU"
   },
   "outputs": [],
   "source": [
    "# Function that downloads a specified MNIST data file from Yann Le Cun's website\n",
    "def download(filename, source='http://yann.lecun.com/exdb/mnist/'):\n",
    "    print(\"Downloading %s\" % filename)\n",
    "    urlretrieve(source + filename, filename)\n",
    "\n",
    "# Invokes download() if necessary, then reads in images\n",
    "def load_mnist_images(filename):\n",
    "    if not os.path.exists(filename):\n",
    "        download(filename)\n",
    "    with gzip.open(filename, 'rb') as f:\n",
    "        data = np.frombuffer(f.read(), np.uint8, offset=16)\n",
    "    data = data.reshape(-1,784)\n",
    "    return data\n",
    "\n",
    "def load_mnist_labels(filename):\n",
    "    if not os.path.exists(filename):\n",
    "        download(filename)\n",
    "    with gzip.open(filename, 'rb') as f:\n",
    "        data = np.frombuffer(f.read(), np.uint8, offset=8)\n",
    "    return data"
   ]
  },
  {
   "cell_type": "code",
   "execution_count": 3,
   "metadata": {
    "executionInfo": {
     "elapsed": 496,
     "status": "ok",
     "timestamp": 1633812816044,
     "user": {
      "displayName": "Omar Abu Hassan",
      "photoUrl": "https://lh3.googleusercontent.com/a/default-user=s64",
      "userId": "03712834313837095023"
     },
     "user_tz": -180
    },
    "id": "8wBaKKPq4bEU"
   },
   "outputs": [
    {
     "name": "stdout",
     "output_type": "stream",
     "text": [
      "Downloading train-images-idx3-ubyte.gz\n",
      "Downloading train-labels-idx1-ubyte.gz\n",
      "Downloading t10k-images-idx3-ubyte.gz\n",
      "Downloading t10k-labels-idx1-ubyte.gz\n"
     ]
    }
   ],
   "source": [
    "## Load the training set\n",
    "train_data = load_mnist_images('train-images-idx3-ubyte.gz')\n",
    "train_labels = load_mnist_labels('train-labels-idx1-ubyte.gz')\n",
    "\n",
    "## Load the testing set\n",
    "test_data = load_mnist_images('t10k-images-idx3-ubyte.gz')\n",
    "test_labels = load_mnist_labels('t10k-labels-idx1-ubyte.gz')"
   ]
  },
  {
   "cell_type": "code",
   "execution_count": 4,
   "metadata": {
    "colab": {
     "base_uri": "https://localhost:8080/"
    },
    "executionInfo": {
     "elapsed": 6,
     "status": "ok",
     "timestamp": 1633812816045,
     "user": {
      "displayName": "Omar Abu Hassan",
      "photoUrl": "https://lh3.googleusercontent.com/a/default-user=s64",
      "userId": "03712834313837095023"
     },
     "user_tz": -180
    },
    "id": "5Cg2c1VV4bEV",
    "outputId": "93586b02-31c8-4bfc-a37e-6ea752fb1d60"
   },
   "outputs": [
    {
     "name": "stdout",
     "output_type": "stream",
     "text": [
      "Training dataset dimensions:  (60000, 784)\n",
      "Number of training labels:  60000\n",
      "Testing dataset dimensions:  (10000, 784)\n",
      "Number of testing labels:  10000\n"
     ]
    }
   ],
   "source": [
    "## Print out their dimensions\n",
    "print(\"Training dataset dimensions: \", np.shape(train_data))\n",
    "print(\"Number of training labels: \", len(train_labels))\n",
    "print(\"Testing dataset dimensions: \", np.shape(test_data))\n",
    "print(\"Number of testing labels: \", len(test_labels))"
   ]
  },
  {
   "cell_type": "code",
   "execution_count": 5,
   "metadata": {
    "colab": {
     "base_uri": "https://localhost:8080/"
    },
    "executionInfo": {
     "elapsed": 15,
     "status": "ok",
     "timestamp": 1633812816754,
     "user": {
      "displayName": "Omar Abu Hassan",
      "photoUrl": "https://lh3.googleusercontent.com/a/default-user=s64",
      "userId": "03712834313837095023"
     },
     "user_tz": -180
    },
    "id": "xdFL0Fvq4bEW",
    "outputId": "a5b8bbf3-e021-44f3-e6b1-e55a9072cc01"
   },
   "outputs": [
    {
     "name": "stdout",
     "output_type": "stream",
     "text": [
      "Training set distribution:\n",
      "{0: 5923, 1: 6742, 2: 5958, 3: 6131, 4: 5842, 5: 5421, 6: 5918, 7: 6265, 8: 5851, 9: 5949}\n",
      "Test set distribution:\n",
      "{0: 980, 1: 1135, 2: 1032, 3: 1010, 4: 982, 5: 892, 6: 958, 7: 1028, 8: 974, 9: 1009}\n"
     ]
    }
   ],
   "source": [
    "## Compute the number of examples of each digit\n",
    "train_digits, train_counts = np.unique(train_labels, return_counts=True)\n",
    "print(\"Training set distribution:\")\n",
    "print(dict(zip(train_digits, train_counts)))\n",
    "\n",
    "test_digits, test_counts = np.unique(test_labels, return_counts=True)\n",
    "print(\"Test set distribution:\")\n",
    "print(dict(zip(test_digits, test_counts)))"
   ]
  },
  {
   "cell_type": "code",
   "execution_count": 6,
   "metadata": {
    "colab": {
     "base_uri": "https://localhost:8080/",
     "height": 514
    },
    "executionInfo": {
     "elapsed": 344,
     "status": "ok",
     "timestamp": 1633812818397,
     "user": {
      "displayName": "Omar Abu Hassan",
      "photoUrl": "https://lh3.googleusercontent.com/a/default-user=s64",
      "userId": "03712834313837095023"
     },
     "user_tz": -180
    },
    "id": "Ps5_LOb24bEX",
    "outputId": "606cfdf2-d2d4-4f28-a1d3-1c0de3c8add8"
   },
   "outputs": [
    {
     "data": {
      "image/png": "[encoded data removed]",
      "text/plain": [
       "<Figure size 432x288 with 1 Axes>"
      ]
     },
     "metadata": {
      "needs_background": "light"
     },
     "output_type": "display_data"
    },
    {
     "name": "stdout",
     "output_type": "stream",
     "text": [
      "Label 5\n"
     ]
    },
    {
     "data": {
      "image/png": "[encoded data removed]",
      "text/plain": [
       "<Figure size 432x288 with 1 Axes>"
      ]
     },
     "metadata": {
      "needs_background": "light"
     },
     "output_type": "display_data"
    },
    {
     "name": "stdout",
     "output_type": "stream",
     "text": [
      "Label 7\n"
     ]
    }
   ],
   "source": [
    "## Define a function that displays a digit given its vector representation\n",
    "def show_digit(x):\n",
    "    plt.axis('off')\n",
    "    plt.imshow(x.reshape((28,28)), cmap=plt.cm.gray)\n",
    "    plt.show()\n",
    "    return\n",
    "\n",
    "## Define a function that takes an index into a particular data set (\"train\" or \"test\") and displays that image.\n",
    "def vis_image(index, dataset=\"train\"):\n",
    "    if(dataset==\"train\"): \n",
    "        show_digit(train_data[index,])\n",
    "        label = train_labels[index]\n",
    "    else:\n",
    "        show_digit(test_data[index,])\n",
    "        label = test_labels[index]\n",
    "    print(\"Label \" + str(label))\n",
    "    return\n",
    "\n",
    "## View the first data point in the training set\n",
    "vis_image(0, \"train\")\n",
    "\n",
    "## Now view the first data point in the test set\n",
    "vis_image(0, \"test\")"
   ]
  },
  {
   "cell_type": "markdown",
   "metadata": {
    "id": "SY5EcSyx4bEX"
   },
   "source": [
    "## Splitting the Train data to Train and Validate Sets"
   ]
  },
  {
   "cell_type": "code",
   "execution_count": 7,
   "metadata": {
    "executionInfo": {
     "elapsed": 365,
     "status": "ok",
     "timestamp": 1633812821585,
     "user": {
      "displayName": "Omar Abu Hassan",
      "photoUrl": "https://lh3.googleusercontent.com/a/default-user=s64",
      "userId": "03712834313837095023"
     },
     "user_tz": -180
    },
    "id": "a0yyHwf24bEY"
   },
   "outputs": [],
   "source": [
    "from sklearn.model_selection import train_test_split\n",
    "trainx, valx, trainy, valy = train_test_split(train_data, train_labels, test_size=0.20, random_state=42)"
   ]
  },
  {
   "cell_type": "markdown",
   "metadata": {
    "id": "1i13evev4bEY"
   },
   "source": [
    "## 1. K-Nearest neighbor classifier--Brute Force Approach"
   ]
  },
  {
   "cell_type": "markdown",
   "metadata": {
    "id": "3-B_jUXs4bEZ"
   },
   "source": [
    "Use the built-in KNN classifier to perform handwritten digit classification task. Please keep in mind that any hyper-parameter selection shall be performed on the independent validation set and not on the test set. You need to study the KNeighborsClassifier documentation to understand how to use the api with different parameters. In this set of experiments, you need to select 'brute' for the **algorithm** parameter. Record the error rates on the test set and the cpu time taken for evaluation.\n",
    "\n",
    "**Note:** Here you don't have to implement the KNN classifier but you just need to use it from ``sklearn`` library."
   ]
  },
  {
   "cell_type": "code",
   "execution_count": 8,
   "metadata": {
    "executionInfo": {
     "elapsed": 334,
     "status": "ok",
     "timestamp": 1633812765236,
     "user": {
      "displayName": "Omar Abu Hassan",
      "photoUrl": "https://lh3.googleusercontent.com/a/default-user=s64",
      "userId": "03712834313837095023"
     },
     "user_tz": -180
    },
    "id": "EE1tVc9FD3Pf"
   },
   "outputs": [],
   "source": [
    "from sklearn.neighbors import KNeighborsClassifier\n",
    "from sklearn.metrics import classification_report\n",
    "from sklearn.model_selection import GridSearchCV"
   ]
  },
  {
   "cell_type": "code",
   "execution_count": 9,
   "metadata": {
    "colab": {
     "base_uri": "https://localhost:8080/"
    },
    "executionInfo": {
     "elapsed": 231637,
     "status": "ok",
     "timestamp": 1633813055174,
     "user": {
      "displayName": "Omar Abu Hassan",
      "photoUrl": "https://lh3.googleusercontent.com/a/default-user=s64",
      "userId": "03712834313837095023"
     },
     "user_tz": -180
    },
    "id": "ozjEkh8Z4bEZ",
    "outputId": "99808534-06a6-4bd4-a6f4-57e49b1881bc"
   },
   "outputs": [
    {
     "name": "stdout",
     "output_type": "stream",
     "text": [
      "KNeighborsClassifier(algorithm='brute')\n",
      "              precision    recall  f1-score   support\n",
      "\n",
      "           0       0.98      0.99      0.99      1175\n",
      "           1       0.95      1.00      0.97      1322\n",
      "           2       0.98      0.96      0.97      1174\n",
      "           3       0.96      0.97      0.97      1219\n",
      "           4       0.98      0.97      0.97      1176\n",
      "           5       0.96      0.97      0.97      1104\n",
      "           6       0.98      0.99      0.99      1177\n",
      "           7       0.97      0.97      0.97      1299\n",
      "           8       0.99      0.93      0.96      1160\n",
      "           9       0.96      0.96      0.96      1194\n",
      "\n",
      "    accuracy                           0.97     12000\n",
      "   macro avg       0.97      0.97      0.97     12000\n",
      "weighted avg       0.97      0.97      0.97     12000\n",
      "\n",
      "the best K is  {'n_neighbors': 1}\n"
     ]
    }
   ],
   "source": [
    "\n",
    "### START CODE HERE ###\n",
    "clf1 = KNeighborsClassifier(algorithm = \"brute\")\n",
    "clf1.fit(trainx,trainy)\n",
    "print(clf1)\n",
    "y_val = clf1.predict(valx)\n",
    "print(classification_report(valy, y_val))\n",
    "clf1.get_params()\n",
    "\n",
    "#create a dictionary of all values we want to test for n_neighbors\n",
    "param_grid = {'n_neighbors': np.arange(1, 25)}\n",
    "#use gridsearch to test all values for n_neighbors\n",
    "clf1_gscv = GridSearchCV(clf1, param_grid, cv=5)\n",
    "\n",
    "clf1_gscv.fit(valx,valy)\n",
    "\n",
    "#check top performing n_neighbors value\n",
    "print(\"the best K is \",clf1_gscv.best_params_)\n"
   ]
  },
  {
   "cell_type": "code",
   "execution_count": 10,
   "metadata": {
    "colab": {
     "base_uri": "https://localhost:8080/"
    },
    "executionInfo": {
     "elapsed": 26934,
     "status": "ok",
     "timestamp": 1633813082098,
     "user": {
      "displayName": "Omar Abu Hassan",
      "photoUrl": "https://lh3.googleusercontent.com/a/default-user=s64",
      "userId": "03712834313837095023"
     },
     "user_tz": -180
    },
    "id": "UfwTYlm4HzDa",
    "outputId": "445d4952-ff31-4aaa-dd87-9823ca773901"
   },
   "outputs": [
    {
     "name": "stdout",
     "output_type": "stream",
     "text": [
      "              precision    recall  f1-score   support\n",
      "\n",
      "           0       0.98      0.99      0.99       980\n",
      "           1       0.96      0.99      0.98      1135\n",
      "           2       0.99      0.96      0.97      1032\n",
      "           3       0.96      0.96      0.96      1010\n",
      "           4       0.97      0.96      0.96       982\n",
      "           5       0.95      0.97      0.96       892\n",
      "           6       0.98      0.98      0.98       958\n",
      "           7       0.96      0.97      0.96      1028\n",
      "           8       0.98      0.94      0.96       974\n",
      "           9       0.95      0.95      0.95      1009\n",
      "\n",
      "    accuracy                           0.97     10000\n",
      "   macro avg       0.97      0.97      0.97     10000\n",
      "weighted avg       0.97      0.97      0.97     10000\n",
      "\n",
      "--- 9.798798322677612 seconds ---\n"
     ]
    }
   ],
   "source": [
    "#update k value\n",
    "clf1.set_params(**clf1_gscv.best_params_)\n",
    "clf1.fit(trainx,trainy)\n",
    "y_expect = test_labels\n",
    "start_time = time.time()\n",
    "y_pred = clf1.predict(test_data)\n",
    "print(classification_report(y_expect, y_pred))\n",
    "print(\"--- %s seconds ---\" % (time.time() - start_time))\n",
    "### END CODE HERE ###\n"
   ]
  },
  {
   "cell_type": "markdown",
   "metadata": {
    "id": "ayj9PJAQ4bEZ"
   },
   "source": [
    "## 2. Faster nearest neighbor methods"
   ]
  },
  {
   "cell_type": "markdown",
   "metadata": {
    "id": "Uv91LNpo4bEa"
   },
   "source": [
    "Performing nearest neighbor classification in the way we have presented requires a full pass through the training set in order to classify a single point. If there are $N$ training points in $\\mathbb{R}^d$, this takes $O(N d)$ time.\n",
    "\n",
    "Fortunately, there are faster methods to perform nearest neighbor look up if we are willing to spend some time preprocessing the training set. `scikit-learn` has fast implementations of two useful nearest neighbor data structures: the _ball tree_ and the _k-d tree_. Record the error rates on the test set and the cpu time taken for evaluation using these two faster methods.\n",
    "\n",
    "**Note:** You need to select 'ball_tree'or 'kd_tree' for the **algorithm** parameter for ``KNeighborsClassifier`` classifier."
   ]
  },
  {
   "cell_type": "code",
   "execution_count": 11,
   "metadata": {
    "colab": {
     "background_save": true
    },
    "id": "1FSeWj9e4bEa"
   },
   "outputs": [
    {
     "name": "stdout",
     "output_type": "stream",
     "text": [
      "              precision    recall  f1-score   support\n",
      "\n",
      "           0       0.98      0.99      0.99       980\n",
      "           1       0.96      0.99      0.98      1135\n",
      "           2       0.99      0.96      0.97      1032\n",
      "           3       0.96      0.96      0.96      1010\n",
      "           4       0.97      0.96      0.96       982\n",
      "           5       0.95      0.97      0.96       892\n",
      "           6       0.98      0.98      0.98       958\n",
      "           7       0.96      0.97      0.96      1028\n",
      "           8       0.98      0.94      0.96       974\n",
      "           9       0.95      0.95      0.95      1009\n",
      "\n",
      "    accuracy                           0.97     10000\n",
      "   macro avg       0.97      0.97      0.97     10000\n",
      "weighted avg       0.97      0.97      0.97     10000\n",
      "\n",
      "--- 531.2621214389801 seconds ---\n"
     ]
    }
   ],
   "source": [
    "# You can use KNeighborsClassifier with correct values for 'algorithm'\n",
    "### START CODE HERE ###\n",
    "clf2 = KNeighborsClassifier(algorithm = \"kd_tree\")\n",
    "#update k value\n",
    "clf2.set_params(**clf1_gscv.best_params_)\n",
    "clf2.fit(trainx,trainy)\n",
    "\n",
    "\n",
    "y_expect = test_labels\n",
    "start_time = time.time()\n",
    "y_pred = clf2.predict(test_data)\n",
    "print(classification_report(y_expect, y_pred))\n",
    "print(\"--- %s seconds ---\" % (time.time() - start_time))\n",
    "\n",
    "### END CODE HERE ###"
   ]
  },
  {
   "cell_type": "code",
   "execution_count": 12,
   "metadata": {
    "id": "wNdzIUHNQErd"
   },
   "outputs": [
    {
     "name": "stdout",
     "output_type": "stream",
     "text": [
      "              precision    recall  f1-score   support\n",
      "\n",
      "           0       0.98      0.99      0.99       980\n",
      "           1       0.96      0.99      0.98      1135\n",
      "           2       0.99      0.96      0.97      1032\n",
      "           3       0.96      0.96      0.96      1010\n",
      "           4       0.97      0.96      0.96       982\n",
      "           5       0.95      0.97      0.96       892\n",
      "           6       0.98      0.98      0.98       958\n",
      "           7       0.96      0.97      0.96      1028\n",
      "           8       0.98      0.94      0.96       974\n",
      "           9       0.95      0.95      0.95      1009\n",
      "\n",
      "    accuracy                           0.97     10000\n",
      "   macro avg       0.97      0.97      0.97     10000\n",
      "weighted avg       0.97      0.97      0.97     10000\n",
      "\n",
      "--- 412.05068135261536 seconds ---\n"
     ]
    }
   ],
   "source": [
    "# You can use KNeighborsClassifier with correct values for 'algorithm'\n",
    "### START CODE HERE ###\n",
    "clf3 = KNeighborsClassifier(algorithm = \"ball_tree\")\n",
    "clf3.set_params(**clf1_gscv.best_params_)\n",
    "clf3.fit(trainx,trainy)\n",
    "\n",
    "y_expect = test_labels\n",
    "start_time = time.time()\n",
    "y_pred = clf3.predict(test_data)\n",
    "print(classification_report(y_expect, y_pred))\n",
    "print(\"--- %s seconds ---\" % (time.time() - start_time))\n",
    "\n",
    "### END CODE HERE ###"
   ]
  },
  {
   "cell_type": "markdown",
   "metadata": {
    "id": "5SCCpUah4bEa"
   },
   "source": [
    "## 3. Record CPU time and accuracy for all the three approaches in different datasets"
   ]
  },
  {
   "cell_type": "markdown",
   "metadata": {
    "id": "AA_nMWu44bEa"
   },
   "source": [
    "Use brute-force, kd-tree, and ball-tree approaches for the following datasets and record the accuracies and cpu time (for evaluation step only). Looking at the results, can you explain it.\n",
    "\n",
    "Datasets:\n",
    "1. Abalone Data Set (https://archive.ics.uci.edu/ml/datasets/abalone)\n",
    "2. Statlog (Landsat Satellite) Data Set (https://archive.ics.uci.edu/ml/datasets/Statlog+(Landsat+Satellite))\n",
    "\n",
    "**Note:** The datasets are provided as attachement in the assignment as CSV files."
   ]
  },
  {
   "cell_type": "markdown",
   "metadata": {
    "id": "0a8VYJ61Skwh"
   },
   "source": [
    "## Abalone Data Set"
   ]
  },
  {
   "cell_type": "code",
   "execution_count": 13,
   "metadata": {
    "executionInfo": {
     "elapsed": 515,
     "status": "ok",
     "timestamp": 1633812680482,
     "user": {
      "displayName": "Omar Abu Hassan",
      "photoUrl": "https://lh3.googleusercontent.com/a/default-user=s64",
      "userId": "03712834313837095023"
     },
     "user_tz": -180
    },
    "id": "xXTParD2FaFX"
   },
   "outputs": [],
   "source": [
    "import pandas as pd"
   ]
  },
  {
   "cell_type": "code",
   "execution_count": 15,
   "metadata": {
    "colab": {
     "base_uri": "https://localhost:8080/",
     "height": 241
    },
    "executionInfo": {
     "elapsed": 15345,
     "status": "ok",
     "timestamp": 1633812720834,
     "user": {
      "displayName": "Omar Abu Hassan",
      "photoUrl": "https://lh3.googleusercontent.com/a/default-user=s64",
      "userId": "03712834313837095023"
     },
     "user_tz": -180
    },
    "id": "Rp2dGTqe4bEa",
    "outputId": "9c0721f0-7ec1-4eab-e206-eeb87b1848a0"
   },
   "outputs": [
    {
     "data": {
      "text/html": [
       "<div>\n",
       "<style scoped>\n",
       "    .dataframe tbody tr th:only-of-type {\n",
       "        vertical-align: middle;\n",
       "    }\n",
       "\n",
       "    .dataframe tbody tr th {\n",
       "        vertical-align: top;\n",
       "    }\n",
       "\n",
       "    .dataframe thead th {\n",
       "        text-align: right;\n",
       "    }\n",
       "</style>\n",
       "<table border=\"1\" class=\"dataframe\">\n",
       "  <thead>\n",
       "    <tr style=\"text-align: right;\">\n",
       "      <th></th>\n",
       "      <th>0</th>\n",
       "      <th>1</th>\n",
       "      <th>2</th>\n",
       "      <th>3</th>\n",
       "      <th>4</th>\n",
       "      <th>5</th>\n",
       "      <th>6</th>\n",
       "      <th>7</th>\n",
       "      <th>8</th>\n",
       "    </tr>\n",
       "  </thead>\n",
       "  <tbody>\n",
       "    <tr>\n",
       "      <th>0</th>\n",
       "      <td>M</td>\n",
       "      <td>0.455</td>\n",
       "      <td>0.365</td>\n",
       "      <td>0.095</td>\n",
       "      <td>0.5140</td>\n",
       "      <td>0.2245</td>\n",
       "      <td>0.1010</td>\n",
       "      <td>0.150</td>\n",
       "      <td>15</td>\n",
       "    </tr>\n",
       "    <tr>\n",
       "      <th>1</th>\n",
       "      <td>M</td>\n",
       "      <td>0.350</td>\n",
       "      <td>0.265</td>\n",
       "      <td>0.090</td>\n",
       "      <td>0.2255</td>\n",
       "      <td>0.0995</td>\n",
       "      <td>0.0485</td>\n",
       "      <td>0.070</td>\n",
       "      <td>7</td>\n",
       "    </tr>\n",
       "    <tr>\n",
       "      <th>2</th>\n",
       "      <td>F</td>\n",
       "      <td>0.530</td>\n",
       "      <td>0.420</td>\n",
       "      <td>0.135</td>\n",
       "      <td>0.6770</td>\n",
       "      <td>0.2565</td>\n",
       "      <td>0.1415</td>\n",
       "      <td>0.210</td>\n",
       "      <td>9</td>\n",
       "    </tr>\n",
       "    <tr>\n",
       "      <th>3</th>\n",
       "      <td>M</td>\n",
       "      <td>0.440</td>\n",
       "      <td>0.365</td>\n",
       "      <td>0.125</td>\n",
       "      <td>0.5160</td>\n",
       "      <td>0.2155</td>\n",
       "      <td>0.1140</td>\n",
       "      <td>0.155</td>\n",
       "      <td>10</td>\n",
       "    </tr>\n",
       "    <tr>\n",
       "      <th>4</th>\n",
       "      <td>I</td>\n",
       "      <td>0.330</td>\n",
       "      <td>0.255</td>\n",
       "      <td>0.080</td>\n",
       "      <td>0.2050</td>\n",
       "      <td>0.0895</td>\n",
       "      <td>0.0395</td>\n",
       "      <td>0.055</td>\n",
       "      <td>7</td>\n",
       "    </tr>\n",
       "  </tbody>\n",
       "</table>\n",
       "</div>"
      ],
      "text/plain": [
       "   0      1      2      3       4       5       6      7   8\n",
       "0  M  0.455  0.365  0.095  0.5140  0.2245  0.1010  0.150  15\n",
       "1  M  0.350  0.265  0.090  0.2255  0.0995  0.0485  0.070   7\n",
       "2  F  0.530  0.420  0.135  0.6770  0.2565  0.1415  0.210   9\n",
       "3  M  0.440  0.365  0.125  0.5160  0.2155  0.1140  0.155  10\n",
       "4  I  0.330  0.255  0.080  0.2050  0.0895  0.0395  0.055   7"
      ]
     },
     "execution_count": 15,
     "metadata": {},
     "output_type": "execute_result"
    }
   ],
   "source": [
    "# Abalone Data Set\n",
    "### START CODE HERE ###\n",
    "# from google.colab import drive\n",
    "# drive.mount('/content/drive/')\n",
    "# %cd /content/drive/My Drive/Colab Notebooks/\n",
    "\n",
    "df = pd.read_csv('Abalone19.csv', header=None)\n",
    "df.head() "
   ]
  },
  {
   "cell_type": "code",
   "execution_count": 16,
   "metadata": {
    "colab": {
     "base_uri": "https://localhost:8080/"
    },
    "executionInfo": {
     "elapsed": 392,
     "status": "ok",
     "timestamp": 1633812725246,
     "user": {
      "displayName": "Omar Abu Hassan",
      "photoUrl": "https://lh3.googleusercontent.com/a/default-user=s64",
      "userId": "03712834313837095023"
     },
     "user_tz": -180
    },
    "id": "QZksRh8jFslQ",
    "outputId": "8c6b502a-748f-4bf1-f8cb-d92374a4410b"
   },
   "outputs": [
    {
     "data": {
      "text/plain": [
       "(array([15,  7,  9, ...,  9, 10, 12], dtype=int64), (4177,))"
      ]
     },
     "execution_count": 16,
     "metadata": {},
     "output_type": "execute_result"
    }
   ],
   "source": [
    "Y = df[8]\n",
    "Y = Y.to_numpy()\n",
    "Y, Y.shape"
   ]
  },
  {
   "cell_type": "code",
   "execution_count": 17,
   "metadata": {
    "colab": {
     "base_uri": "https://localhost:8080/"
    },
    "executionInfo": {
     "elapsed": 2,
     "status": "ok",
     "timestamp": 1633812725764,
     "user": {
      "displayName": "Omar Abu Hassan",
      "photoUrl": "https://lh3.googleusercontent.com/a/default-user=s64",
      "userId": "03712834313837095023"
     },
     "user_tz": -180
    },
    "id": "GNhsaqaHQPr4",
    "outputId": "2fb9e916-b89c-4c0a-c168-781a34fe7016"
   },
   "outputs": [
    {
     "data": {
      "text/plain": [
       "M    1528\n",
       "I    1342\n",
       "F    1307\n",
       "Name: 0, dtype: int64"
      ]
     },
     "execution_count": 17,
     "metadata": {},
     "output_type": "execute_result"
    }
   ],
   "source": [
    "df[0].value_counts()"
   ]
  },
  {
   "cell_type": "code",
   "execution_count": 18,
   "metadata": {
    "colab": {
     "base_uri": "https://localhost:8080/",
     "height": 206
    },
    "executionInfo": {
     "elapsed": 7,
     "status": "ok",
     "timestamp": 1633812726180,
     "user": {
      "displayName": "Omar Abu Hassan",
      "photoUrl": "https://lh3.googleusercontent.com/a/default-user=s64",
      "userId": "03712834313837095023"
     },
     "user_tz": -180
    },
    "id": "RaN3vEPdQbzl",
    "outputId": "f6a8d20a-960c-45b8-b270-87f3f6e555fd"
   },
   "outputs": [
    {
     "data": {
      "text/html": [
       "<div>\n",
       "<style scoped>\n",
       "    .dataframe tbody tr th:only-of-type {\n",
       "        vertical-align: middle;\n",
       "    }\n",
       "\n",
       "    .dataframe tbody tr th {\n",
       "        vertical-align: top;\n",
       "    }\n",
       "\n",
       "    .dataframe thead th {\n",
       "        text-align: right;\n",
       "    }\n",
       "</style>\n",
       "<table border=\"1\" class=\"dataframe\">\n",
       "  <thead>\n",
       "    <tr style=\"text-align: right;\">\n",
       "      <th></th>\n",
       "      <th>0</th>\n",
       "      <th>1</th>\n",
       "      <th>2</th>\n",
       "      <th>3</th>\n",
       "      <th>4</th>\n",
       "      <th>5</th>\n",
       "      <th>6</th>\n",
       "      <th>7</th>\n",
       "      <th>8</th>\n",
       "    </tr>\n",
       "  </thead>\n",
       "  <tbody>\n",
       "    <tr>\n",
       "      <th>0</th>\n",
       "      <td>1</td>\n",
       "      <td>0.455</td>\n",
       "      <td>0.365</td>\n",
       "      <td>0.095</td>\n",
       "      <td>0.5140</td>\n",
       "      <td>0.2245</td>\n",
       "      <td>0.1010</td>\n",
       "      <td>0.150</td>\n",
       "      <td>15</td>\n",
       "    </tr>\n",
       "    <tr>\n",
       "      <th>1</th>\n",
       "      <td>1</td>\n",
       "      <td>0.350</td>\n",
       "      <td>0.265</td>\n",
       "      <td>0.090</td>\n",
       "      <td>0.2255</td>\n",
       "      <td>0.0995</td>\n",
       "      <td>0.0485</td>\n",
       "      <td>0.070</td>\n",
       "      <td>7</td>\n",
       "    </tr>\n",
       "    <tr>\n",
       "      <th>2</th>\n",
       "      <td>2</td>\n",
       "      <td>0.530</td>\n",
       "      <td>0.420</td>\n",
       "      <td>0.135</td>\n",
       "      <td>0.6770</td>\n",
       "      <td>0.2565</td>\n",
       "      <td>0.1415</td>\n",
       "      <td>0.210</td>\n",
       "      <td>9</td>\n",
       "    </tr>\n",
       "    <tr>\n",
       "      <th>3</th>\n",
       "      <td>1</td>\n",
       "      <td>0.440</td>\n",
       "      <td>0.365</td>\n",
       "      <td>0.125</td>\n",
       "      <td>0.5160</td>\n",
       "      <td>0.2155</td>\n",
       "      <td>0.1140</td>\n",
       "      <td>0.155</td>\n",
       "      <td>10</td>\n",
       "    </tr>\n",
       "    <tr>\n",
       "      <th>4</th>\n",
       "      <td>3</td>\n",
       "      <td>0.330</td>\n",
       "      <td>0.255</td>\n",
       "      <td>0.080</td>\n",
       "      <td>0.2050</td>\n",
       "      <td>0.0895</td>\n",
       "      <td>0.0395</td>\n",
       "      <td>0.055</td>\n",
       "      <td>7</td>\n",
       "    </tr>\n",
       "  </tbody>\n",
       "</table>\n",
       "</div>"
      ],
      "text/plain": [
       "   0      1      2      3       4       5       6      7   8\n",
       "0  1  0.455  0.365  0.095  0.5140  0.2245  0.1010  0.150  15\n",
       "1  1  0.350  0.265  0.090  0.2255  0.0995  0.0485  0.070   7\n",
       "2  2  0.530  0.420  0.135  0.6770  0.2565  0.1415  0.210   9\n",
       "3  1  0.440  0.365  0.125  0.5160  0.2155  0.1140  0.155  10\n",
       "4  3  0.330  0.255  0.080  0.2050  0.0895  0.0395  0.055   7"
      ]
     },
     "execution_count": 18,
     "metadata": {},
     "output_type": "execute_result"
    }
   ],
   "source": [
    "df = df.replace(\"M\", 1)\n",
    "df = df.replace(\"F\", 2)\n",
    "df = df.replace(\"I\", 3)\n",
    "\n",
    "df.head()"
   ]
  },
  {
   "cell_type": "code",
   "execution_count": 19,
   "metadata": {
    "colab": {
     "base_uri": "https://localhost:8080/"
    },
    "executionInfo": {
     "elapsed": 7,
     "status": "ok",
     "timestamp": 1633812726181,
     "user": {
      "displayName": "Omar Abu Hassan",
      "photoUrl": "https://lh3.googleusercontent.com/a/default-user=s64",
      "userId": "03712834313837095023"
     },
     "user_tz": -180
    },
    "id": "5FvsGyrhF4Gv",
    "outputId": "38d21f8e-0750-44ba-b0b0-f18af25faf66"
   },
   "outputs": [
    {
     "data": {
      "text/plain": [
       "(array([[1.    , 0.455 , 0.365 , ..., 0.2245, 0.101 , 0.15  ],\n",
       "        [1.    , 0.35  , 0.265 , ..., 0.0995, 0.0485, 0.07  ],\n",
       "        [2.    , 0.53  , 0.42  , ..., 0.2565, 0.1415, 0.21  ],\n",
       "        ...,\n",
       "        [1.    , 0.6   , 0.475 , ..., 0.5255, 0.2875, 0.308 ],\n",
       "        [2.    , 0.625 , 0.485 , ..., 0.531 , 0.261 , 0.296 ],\n",
       "        [1.    , 0.71  , 0.555 , ..., 0.9455, 0.3765, 0.495 ]]),\n",
       " (4177, 8))"
      ]
     },
     "execution_count": 19,
     "metadata": {},
     "output_type": "execute_result"
    }
   ],
   "source": [
    "X = df.drop([8], axis=\"columns\")\n",
    "X = X.to_numpy()\n",
    "X, X.shape"
   ]
  },
  {
   "cell_type": "code",
   "execution_count": 20,
   "metadata": {
    "executionInfo": {
     "elapsed": 337,
     "status": "ok",
     "timestamp": 1633812772523,
     "user": {
      "displayName": "Omar Abu Hassan",
      "photoUrl": "https://lh3.googleusercontent.com/a/default-user=s64",
      "userId": "03712834313837095023"
     },
     "user_tz": -180
    },
    "id": "dQOBCin1GUA5"
   },
   "outputs": [],
   "source": [
    "# split data in 3 sets training, validation, test (70%, 15%, 15%)\n",
    "trainx, X_rem, trainy, y_rem = train_test_split(X,Y, train_size=0.7)\n",
    "valx, test_data, valy, test_labels = train_test_split(X_rem,y_rem, test_size=0.5)"
   ]
  },
  {
   "cell_type": "code",
   "execution_count": 21,
   "metadata": {
    "colab": {
     "base_uri": "https://localhost:8080/"
    },
    "executionInfo": {
     "elapsed": 1479,
     "status": "ok",
     "timestamp": 1633812774464,
     "user": {
      "displayName": "Omar Abu Hassan",
      "photoUrl": "https://lh3.googleusercontent.com/a/default-user=s64",
      "userId": "03712834313837095023"
     },
     "user_tz": -180
    },
    "id": "4ctGaWxiHsKM",
    "outputId": "eb22bf4c-8cf0-410c-d8ce-4d8660d238c5"
   },
   "outputs": [
    {
     "name": "stderr",
     "output_type": "stream",
     "text": [
      "E:\\anaconda3\\lib\\site-packages\\sklearn\\metrics\\_classification.py:1221: UndefinedMetricWarning: Precision and F-score are ill-defined and being set to 0.0 in labels with no predicted samples. Use `zero_division` parameter to control this behavior.\n",
      "  _warn_prf(average, modifier, msg_start, len(result))\n",
      "E:\\anaconda3\\lib\\site-packages\\sklearn\\model_selection\\_split.py:670: UserWarning: The least populated class in y has only 1 members, which is less than n_splits=5.\n",
      "  warnings.warn((\"The least populated class in y has only %d\"\n"
     ]
    },
    {
     "name": "stdout",
     "output_type": "stream",
     "text": [
      "              precision    recall  f1-score   support\n",
      "\n",
      "           2       0.00      0.00      0.00         1\n",
      "           3       0.00      0.00      0.00         2\n",
      "           4       0.43      0.75      0.55         8\n",
      "           5       0.46      0.30      0.36        20\n",
      "           6       0.23      0.34      0.28        29\n",
      "           7       0.25      0.31      0.28        55\n",
      "           8       0.32      0.44      0.37        87\n",
      "           9       0.23      0.26      0.24       116\n",
      "          10       0.25      0.33      0.28        92\n",
      "          11       0.19      0.12      0.15        81\n",
      "          12       0.12      0.07      0.09        40\n",
      "          13       0.10      0.07      0.09        27\n",
      "          14       0.17      0.06      0.08        18\n",
      "          15       0.20      0.06      0.09        17\n",
      "          16       0.17      0.10      0.12        10\n",
      "          17       0.00      0.00      0.00         5\n",
      "          18       0.00      0.00      0.00         7\n",
      "          19       0.00      0.00      0.00         4\n",
      "          20       0.00      0.00      0.00         2\n",
      "          21       0.00      0.00      0.00         4\n",
      "          23       0.00      0.00      0.00         1\n",
      "          29       0.00      0.00      0.00         1\n",
      "\n",
      "    accuracy                           0.25       627\n",
      "   macro avg       0.14      0.15      0.14       627\n",
      "weighted avg       0.23      0.25      0.23       627\n",
      "\n",
      "the best K is  {'n_neighbors': 9}\n",
      "              precision    recall  f1-score   support\n",
      "\n",
      "           3       0.00      0.00      0.00         6\n",
      "           4       0.35      0.60      0.44        10\n",
      "           5       0.29      0.27      0.28        15\n",
      "           6       0.23      0.33      0.27        36\n",
      "           7       0.27      0.26      0.26        65\n",
      "           8       0.32      0.40      0.35        81\n",
      "           9       0.29      0.38      0.33       105\n",
      "          10       0.22      0.33      0.27        85\n",
      "          11       0.25      0.22      0.23        78\n",
      "          12       0.09      0.05      0.06        43\n",
      "          13       0.00      0.00      0.00        26\n",
      "          14       0.00      0.00      0.00        23\n",
      "          15       0.00      0.00      0.00        10\n",
      "          16       0.00      0.00      0.00         9\n",
      "          17       0.00      0.00      0.00        11\n",
      "          18       0.00      0.00      0.00         9\n",
      "          19       0.00      0.00      0.00         5\n",
      "          20       0.00      0.00      0.00         7\n",
      "          21       0.00      0.00      0.00         1\n",
      "          22       0.00      0.00      0.00         1\n",
      "          27       0.00      0.00      0.00         1\n",
      "\n",
      "    accuracy                           0.25       627\n",
      "   macro avg       0.11      0.13      0.12       627\n",
      "weighted avg       0.21      0.25      0.23       627\n",
      "\n",
      "Brute Algo.--- 0.04787158966064453 seconds ---\n"
     ]
    },
    {
     "name": "stderr",
     "output_type": "stream",
     "text": [
      "E:\\anaconda3\\lib\\site-packages\\sklearn\\metrics\\_classification.py:1221: UndefinedMetricWarning: Precision and F-score are ill-defined and being set to 0.0 in labels with no predicted samples. Use `zero_division` parameter to control this behavior.\n",
      "  _warn_prf(average, modifier, msg_start, len(result))\n"
     ]
    }
   ],
   "source": [
    "#Brute Algo.\n",
    "ds2_clf1 = KNeighborsClassifier(algorithm = \"brute\")\n",
    "ds2_clf1.fit(trainx,trainy)\n",
    "y_val = ds2_clf1.predict(valx)\n",
    "print(classification_report(valy, y_val))\n",
    "ds2_clf1.get_params()\n",
    "\n",
    "#create a dictionary of all values we want to test for n_neighbors\n",
    "param_grid = {'n_neighbors': np.arange(1, 25)}\n",
    "#use gridsearch to test all values for n_neighbors\n",
    "ds2_clf1_gscv = GridSearchCV(ds2_clf1, param_grid, cv=5)\n",
    "\n",
    "ds2_clf1_gscv.fit(valx,valy)\n",
    "\n",
    "#check top performing n_neighbors value\n",
    "print(\"the best K is \",ds2_clf1_gscv.best_params_)\n",
    "#update k value\n",
    "ds2_clf1.set_params(**ds2_clf1_gscv.best_params_)\n",
    "ds2_clf1.fit(trainx,trainy)\n",
    "\n",
    "y_expect = test_labels\n",
    "start_time = time.time()\n",
    "y_pred = ds2_clf1.predict(test_data)\n",
    "print(classification_report(y_expect, y_pred))\n",
    "print(\"Brute Algo.--- %s seconds ---\" % (time.time() - start_time))"
   ]
  },
  {
   "cell_type": "code",
   "execution_count": 22,
   "metadata": {
    "colab": {
     "base_uri": "https://localhost:8080/"
    },
    "executionInfo": {
     "elapsed": 941,
     "status": "ok",
     "timestamp": 1633812776649,
     "user": {
      "displayName": "Omar Abu Hassan",
      "photoUrl": "https://lh3.googleusercontent.com/a/default-user=s64",
      "userId": "03712834313837095023"
     },
     "user_tz": -180
    },
    "id": "46YoU2u6KxbA",
    "outputId": "f832c5ba-0e08-4f7c-af44-064eb0285ee8"
   },
   "outputs": [
    {
     "name": "stderr",
     "output_type": "stream",
     "text": [
      "E:\\anaconda3\\lib\\site-packages\\sklearn\\metrics\\_classification.py:1221: UndefinedMetricWarning: Precision and F-score are ill-defined and being set to 0.0 in labels with no predicted samples. Use `zero_division` parameter to control this behavior.\n",
      "  _warn_prf(average, modifier, msg_start, len(result))\n",
      "E:\\anaconda3\\lib\\site-packages\\sklearn\\model_selection\\_split.py:670: UserWarning: The least populated class in y has only 1 members, which is less than n_splits=5.\n",
      "  warnings.warn((\"The least populated class in y has only %d\"\n"
     ]
    },
    {
     "name": "stdout",
     "output_type": "stream",
     "text": [
      "              precision    recall  f1-score   support\n",
      "\n",
      "           2       0.00      0.00      0.00         1\n",
      "           3       0.00      0.00      0.00         2\n",
      "           4       0.43      0.75      0.55         8\n",
      "           5       0.46      0.30      0.36        20\n",
      "           6       0.23      0.34      0.28        29\n",
      "           7       0.25      0.31      0.28        55\n",
      "           8       0.32      0.44      0.37        87\n",
      "           9       0.23      0.26      0.24       116\n",
      "          10       0.25      0.33      0.28        92\n",
      "          11       0.19      0.12      0.15        81\n",
      "          12       0.12      0.07      0.09        40\n",
      "          13       0.10      0.07      0.09        27\n",
      "          14       0.17      0.06      0.08        18\n",
      "          15       0.20      0.06      0.09        17\n",
      "          16       0.17      0.10      0.12        10\n",
      "          17       0.00      0.00      0.00         5\n",
      "          18       0.00      0.00      0.00         7\n",
      "          19       0.00      0.00      0.00         4\n",
      "          20       0.00      0.00      0.00         2\n",
      "          21       0.00      0.00      0.00         4\n",
      "          23       0.00      0.00      0.00         1\n",
      "          29       0.00      0.00      0.00         1\n",
      "\n",
      "    accuracy                           0.25       627\n",
      "   macro avg       0.14      0.15      0.14       627\n",
      "weighted avg       0.23      0.25      0.23       627\n",
      "\n",
      "the best K is  {'n_neighbors': 9}\n",
      "              precision    recall  f1-score   support\n",
      "\n",
      "           3       0.00      0.00      0.00         6\n",
      "           4       0.35      0.60      0.44        10\n",
      "           5       0.29      0.27      0.28        15\n",
      "           6       0.23      0.33      0.27        36\n",
      "           7       0.27      0.26      0.26        65\n",
      "           8       0.32      0.40      0.35        81\n",
      "           9       0.29      0.38      0.33       105\n",
      "          10       0.22      0.33      0.27        85\n",
      "          11       0.25      0.22      0.23        78\n",
      "          12       0.09      0.05      0.06        43\n",
      "          13       0.00      0.00      0.00        26\n",
      "          14       0.00      0.00      0.00        23\n",
      "          15       0.00      0.00      0.00        10\n",
      "          16       0.00      0.00      0.00         9\n",
      "          17       0.00      0.00      0.00        11\n",
      "          18       0.00      0.00      0.00         9\n",
      "          19       0.00      0.00      0.00         5\n",
      "          20       0.00      0.00      0.00         7\n",
      "          21       0.00      0.00      0.00         1\n",
      "          22       0.00      0.00      0.00         1\n",
      "          27       0.00      0.00      0.00         1\n",
      "\n",
      "    accuracy                           0.25       627\n",
      "   macro avg       0.11      0.13      0.12       627\n",
      "weighted avg       0.21      0.25      0.23       627\n",
      "\n",
      "kd_tree Algo.--- 0.02393651008605957 seconds ---\n"
     ]
    },
    {
     "name": "stderr",
     "output_type": "stream",
     "text": [
      "E:\\anaconda3\\lib\\site-packages\\sklearn\\metrics\\_classification.py:1221: UndefinedMetricWarning: Precision and F-score are ill-defined and being set to 0.0 in labels with no predicted samples. Use `zero_division` parameter to control this behavior.\n",
      "  _warn_prf(average, modifier, msg_start, len(result))\n"
     ]
    }
   ],
   "source": [
    "#Brute Algo.\n",
    "ds2_clf2 = KNeighborsClassifier(algorithm = \"kd_tree\")\n",
    "ds2_clf2.fit(trainx,trainy)\n",
    "y_val = ds2_clf2.predict(valx)\n",
    "print(classification_report(valy, y_val))\n",
    "ds2_clf2.get_params()\n",
    "\n",
    "#create a dictionary of all values we want to test for n_neighbors\n",
    "param_grid = {'n_neighbors': np.arange(1, 25)}\n",
    "#use gridsearch to test all values for n_neighbors\n",
    "ds2_clf2_gscv = GridSearchCV(ds2_clf2, param_grid, cv=5)\n",
    "\n",
    "ds2_clf2_gscv.fit(valx,valy)\n",
    "\n",
    "#check top performing n_neighbors value\n",
    "print(\"the best K is \",ds2_clf2_gscv.best_params_)\n",
    "#update k value\n",
    "ds2_clf2.set_params(**ds2_clf2_gscv.best_params_)\n",
    "ds2_clf2.fit(trainx,trainy)\n",
    "\n",
    "y_expect = test_labels\n",
    "start_time = time.time()\n",
    "y_pred = ds2_clf2.predict(test_data)\n",
    "print(classification_report(y_expect, y_pred))\n",
    "print(\"kd_tree Algo.--- %s seconds ---\" % (time.time() - start_time))"
   ]
  },
  {
   "cell_type": "code",
   "execution_count": 23,
   "metadata": {
    "colab": {
     "base_uri": "https://localhost:8080/"
    },
    "executionInfo": {
     "elapsed": 1092,
     "status": "ok",
     "timestamp": 1633812777724,
     "user": {
      "displayName": "Omar Abu Hassan",
      "photoUrl": "https://lh3.googleusercontent.com/a/default-user=s64",
      "userId": "03712834313837095023"
     },
     "user_tz": -180
    },
    "id": "PqZ1WAW1RV4s",
    "outputId": "67a5f69c-cd75-46cf-de86-1f394cb0dee0"
   },
   "outputs": [
    {
     "name": "stderr",
     "output_type": "stream",
     "text": [
      "E:\\anaconda3\\lib\\site-packages\\sklearn\\metrics\\_classification.py:1221: UndefinedMetricWarning: Precision and F-score are ill-defined and being set to 0.0 in labels with no predicted samples. Use `zero_division` parameter to control this behavior.\n",
      "  _warn_prf(average, modifier, msg_start, len(result))\n",
      "E:\\anaconda3\\lib\\site-packages\\sklearn\\model_selection\\_split.py:670: UserWarning: The least populated class in y has only 1 members, which is less than n_splits=5.\n",
      "  warnings.warn((\"The least populated class in y has only %d\"\n"
     ]
    },
    {
     "name": "stdout",
     "output_type": "stream",
     "text": [
      "              precision    recall  f1-score   support\n",
      "\n",
      "           2       0.00      0.00      0.00         1\n",
      "           3       0.00      0.00      0.00         2\n",
      "           4       0.43      0.75      0.55         8\n",
      "           5       0.46      0.30      0.36        20\n",
      "           6       0.23      0.34      0.28        29\n",
      "           7       0.25      0.31      0.28        55\n",
      "           8       0.32      0.44      0.37        87\n",
      "           9       0.23      0.26      0.24       116\n",
      "          10       0.25      0.33      0.28        92\n",
      "          11       0.19      0.12      0.15        81\n",
      "          12       0.12      0.07      0.09        40\n",
      "          13       0.10      0.07      0.09        27\n",
      "          14       0.17      0.06      0.08        18\n",
      "          15       0.20      0.06      0.09        17\n",
      "          16       0.17      0.10      0.12        10\n",
      "          17       0.00      0.00      0.00         5\n",
      "          18       0.00      0.00      0.00         7\n",
      "          19       0.00      0.00      0.00         4\n",
      "          20       0.00      0.00      0.00         2\n",
      "          21       0.00      0.00      0.00         4\n",
      "          23       0.00      0.00      0.00         1\n",
      "          29       0.00      0.00      0.00         1\n",
      "\n",
      "    accuracy                           0.25       627\n",
      "   macro avg       0.14      0.15      0.14       627\n",
      "weighted avg       0.23      0.25      0.23       627\n",
      "\n",
      "the best K is  {'n_neighbors': 9}\n",
      "              precision    recall  f1-score   support\n",
      "\n",
      "           3       0.00      0.00      0.00         6\n",
      "           4       0.35      0.60      0.44        10\n",
      "           5       0.29      0.27      0.28        15\n",
      "           6       0.23      0.33      0.27        36\n",
      "           7       0.27      0.26      0.26        65\n",
      "           8       0.32      0.40      0.35        81\n",
      "           9       0.29      0.38      0.33       105\n",
      "          10       0.22      0.33      0.27        85\n",
      "          11       0.25      0.22      0.23        78\n",
      "          12       0.09      0.05      0.06        43\n",
      "          13       0.00      0.00      0.00        26\n",
      "          14       0.00      0.00      0.00        23\n",
      "          15       0.00      0.00      0.00        10\n",
      "          16       0.00      0.00      0.00         9\n",
      "          17       0.00      0.00      0.00        11\n",
      "          18       0.00      0.00      0.00         9\n",
      "          19       0.00      0.00      0.00         5\n",
      "          20       0.00      0.00      0.00         7\n",
      "          21       0.00      0.00      0.00         1\n",
      "          22       0.00      0.00      0.00         1\n",
      "          27       0.00      0.00      0.00         1\n",
      "\n",
      "    accuracy                           0.25       627\n",
      "   macro avg       0.11      0.13      0.12       627\n",
      "weighted avg       0.21      0.25      0.23       627\n",
      "\n",
      "ball_tree Algo.--- 0.021940946578979492 seconds ---\n"
     ]
    },
    {
     "name": "stderr",
     "output_type": "stream",
     "text": [
      "E:\\anaconda3\\lib\\site-packages\\sklearn\\metrics\\_classification.py:1221: UndefinedMetricWarning: Precision and F-score are ill-defined and being set to 0.0 in labels with no predicted samples. Use `zero_division` parameter to control this behavior.\n",
      "  _warn_prf(average, modifier, msg_start, len(result))\n"
     ]
    }
   ],
   "source": [
    "#Brute Algo.\n",
    "ds2_clf3 = KNeighborsClassifier(algorithm = \"ball_tree\")\n",
    "ds2_clf3.fit(trainx,trainy)\n",
    "y_val = ds2_clf3.predict(valx)\n",
    "print(classification_report(valy, y_val))\n",
    "ds2_clf3.get_params()\n",
    "\n",
    "#create a dictionary of all values we want to test for n_neighbors\n",
    "param_grid = {'n_neighbors': np.arange(1, 25)}\n",
    "#use gridsearch to test all values for n_neighbors\n",
    "ds2_clf3_gscv = GridSearchCV(ds2_clf3, param_grid, cv=5)\n",
    "\n",
    "ds2_clf3_gscv.fit(valx,valy)\n",
    "\n",
    "#check top performing n_neighbors value\n",
    "print(\"the best K is \",ds2_clf3_gscv.best_params_)\n",
    "#update k value\n",
    "ds2_clf3.set_params(**ds2_clf3_gscv.best_params_)\n",
    "ds2_clf3.fit(trainx,trainy)\n",
    "\n",
    "y_expect = test_labels\n",
    "start_time = time.time()\n",
    "y_pred = ds2_clf3.predict(test_data)\n",
    "print(classification_report(y_expect, y_pred))\n",
    "print(\"ball_tree Algo.--- %s seconds ---\" % (time.time() - start_time))"
   ]
  },
  {
   "cell_type": "markdown",
   "metadata": {
    "id": "jNRAVet0SRfv"
   },
   "source": [
    "## Statlog (Landsat Satellite) Data Set"
   ]
  },
  {
   "cell_type": "code",
   "execution_count": 24,
   "metadata": {
    "colab": {
     "base_uri": "https://localhost:8080/",
     "height": 261
    },
    "executionInfo": {
     "elapsed": 805,
     "status": "ok",
     "timestamp": 1633812782012,
     "user": {
      "displayName": "Omar Abu Hassan",
      "photoUrl": "https://lh3.googleusercontent.com/a/default-user=s64",
      "userId": "03712834313837095023"
     },
     "user_tz": -180
    },
    "id": "CxNj6HVcS3vy",
    "outputId": "a7abc5d8-85c0-4859-d5d6-5618b87a24a6"
   },
   "outputs": [
    {
     "data": {
      "text/html": [
       "<div>\n",
       "<style scoped>\n",
       "    .dataframe tbody tr th:only-of-type {\n",
       "        vertical-align: middle;\n",
       "    }\n",
       "\n",
       "    .dataframe tbody tr th {\n",
       "        vertical-align: top;\n",
       "    }\n",
       "\n",
       "    .dataframe thead th {\n",
       "        text-align: right;\n",
       "    }\n",
       "</style>\n",
       "<table border=\"1\" class=\"dataframe\">\n",
       "  <thead>\n",
       "    <tr style=\"text-align: right;\">\n",
       "      <th></th>\n",
       "      <th>0</th>\n",
       "      <th>1</th>\n",
       "      <th>2</th>\n",
       "      <th>3</th>\n",
       "      <th>4</th>\n",
       "      <th>5</th>\n",
       "      <th>6</th>\n",
       "      <th>7</th>\n",
       "      <th>8</th>\n",
       "      <th>9</th>\n",
       "      <th>...</th>\n",
       "      <th>27</th>\n",
       "      <th>28</th>\n",
       "      <th>29</th>\n",
       "      <th>30</th>\n",
       "      <th>31</th>\n",
       "      <th>32</th>\n",
       "      <th>33</th>\n",
       "      <th>34</th>\n",
       "      <th>35</th>\n",
       "      <th>36</th>\n",
       "    </tr>\n",
       "  </thead>\n",
       "  <tbody>\n",
       "    <tr>\n",
       "      <th>0</th>\n",
       "      <td>0.117596</td>\n",
       "      <td>1.241362</td>\n",
       "      <td>1.184036</td>\n",
       "      <td>0.815302</td>\n",
       "      <td>-0.158561</td>\n",
       "      <td>1.256483</td>\n",
       "      <td>1.193546</td>\n",
       "      <td>0.818486</td>\n",
       "      <td>-0.141965</td>\n",
       "      <td>0.879481</td>\n",
       "      <td>...</td>\n",
       "      <td>0.807707</td>\n",
       "      <td>-0.069968</td>\n",
       "      <td>1.219160</td>\n",
       "      <td>1.250463</td>\n",
       "      <td>0.597678</td>\n",
       "      <td>-0.054291</td>\n",
       "      <td>1.233342</td>\n",
       "      <td>1.262255</td>\n",
       "      <td>0.603258</td>\n",
       "      <td>1</td>\n",
       "    </tr>\n",
       "    <tr>\n",
       "      <th>1</th>\n",
       "      <td>-1.205362</td>\n",
       "      <td>-1.249654</td>\n",
       "      <td>-0.077532</td>\n",
       "      <td>0.444886</td>\n",
       "      <td>-0.895959</td>\n",
       "      <td>-0.447579</td>\n",
       "      <td>-0.786760</td>\n",
       "      <td>-0.554203</td>\n",
       "      <td>-0.364672</td>\n",
       "      <td>0.092157</td>\n",
       "      <td>...</td>\n",
       "      <td>-0.192752</td>\n",
       "      <td>-0.736996</td>\n",
       "      <td>-0.969292</td>\n",
       "      <td>-0.844805</td>\n",
       "      <td>-0.400030</td>\n",
       "      <td>-0.725852</td>\n",
       "      <td>-0.344432</td>\n",
       "      <td>-0.594534</td>\n",
       "      <td>-0.183967</td>\n",
       "      <td>5</td>\n",
       "    </tr>\n",
       "    <tr>\n",
       "      <th>2</th>\n",
       "      <td>0.779075</td>\n",
       "      <td>0.148811</td>\n",
       "      <td>0.042617</td>\n",
       "      <td>-0.243030</td>\n",
       "      <td>0.800057</td>\n",
       "      <td>0.164136</td>\n",
       "      <td>0.053370</td>\n",
       "      <td>-0.448612</td>\n",
       "      <td>0.154978</td>\n",
       "      <td>-0.345245</td>\n",
       "      <td>...</td>\n",
       "      <td>-0.877277</td>\n",
       "      <td>0.671174</td>\n",
       "      <td>-0.006373</td>\n",
       "      <td>-0.425752</td>\n",
       "      <td>-0.662584</td>\n",
       "      <td>0.691889</td>\n",
       "      <td>0.356801</td>\n",
       "      <td>-0.175259</td>\n",
       "      <td>-0.236449</td>\n",
       "      <td>7</td>\n",
       "    </tr>\n",
       "    <tr>\n",
       "      <th>3</th>\n",
       "      <td>1.146564</td>\n",
       "      <td>0.585831</td>\n",
       "      <td>0.342991</td>\n",
       "      <td>0.021553</td>\n",
       "      <td>0.947536</td>\n",
       "      <td>0.601074</td>\n",
       "      <td>0.353416</td>\n",
       "      <td>0.026550</td>\n",
       "      <td>1.788164</td>\n",
       "      <td>1.010702</td>\n",
       "      <td>...</td>\n",
       "      <td>0.281150</td>\n",
       "      <td>1.412317</td>\n",
       "      <td>1.044084</td>\n",
       "      <td>0.532085</td>\n",
       "      <td>0.282612</td>\n",
       "      <td>1.438068</td>\n",
       "      <td>1.058033</td>\n",
       "      <td>0.842981</td>\n",
       "      <td>0.130923</td>\n",
       "      <td>3</td>\n",
       "    </tr>\n",
       "    <tr>\n",
       "      <th>4</th>\n",
       "      <td>-0.764376</td>\n",
       "      <td>-1.162250</td>\n",
       "      <td>-0.137607</td>\n",
       "      <td>0.180303</td>\n",
       "      <td>-0.969698</td>\n",
       "      <td>-1.146681</td>\n",
       "      <td>-0.126658</td>\n",
       "      <td>0.184937</td>\n",
       "      <td>-0.735851</td>\n",
       "      <td>-1.132569</td>\n",
       "      <td>...</td>\n",
       "      <td>-0.192752</td>\n",
       "      <td>-0.885225</td>\n",
       "      <td>-1.231906</td>\n",
       "      <td>-0.784941</td>\n",
       "      <td>-0.347519</td>\n",
       "      <td>-0.875088</td>\n",
       "      <td>-1.220973</td>\n",
       "      <td>-0.774223</td>\n",
       "      <td>-0.551339</td>\n",
       "      <td>5</td>\n",
       "    </tr>\n",
       "  </tbody>\n",
       "</table>\n",
       "<p>5 rows × 37 columns</p>\n",
       "</div>"
      ],
      "text/plain": [
       "         0         1         2         3         4         5         6   \\\n",
       "0  0.117596  1.241362  1.184036  0.815302 -0.158561  1.256483  1.193546   \n",
       "1 -1.205362 -1.249654 -0.077532  0.444886 -0.895959 -0.447579 -0.786760   \n",
       "2  0.779075  0.148811  0.042617 -0.243030  0.800057  0.164136  0.053370   \n",
       "3  1.146564  0.585831  0.342991  0.021553  0.947536  0.601074  0.353416   \n",
       "4 -0.764376 -1.162250 -0.137607  0.180303 -0.969698 -1.146681 -0.126658   \n",
       "\n",
       "         7         8         9   ...        27        28        29        30  \\\n",
       "0  0.818486 -0.141965  0.879481  ...  0.807707 -0.069968  1.219160  1.250463   \n",
       "1 -0.554203 -0.364672  0.092157  ... -0.192752 -0.736996 -0.969292 -0.844805   \n",
       "2 -0.448612  0.154978 -0.345245  ... -0.877277  0.671174 -0.006373 -0.425752   \n",
       "3  0.026550  1.788164  1.010702  ...  0.281150  1.412317  1.044084  0.532085   \n",
       "4  0.184937 -0.735851 -1.132569  ... -0.192752 -0.885225 -1.231906 -0.784941   \n",
       "\n",
       "         31        32        33        34        35  36  \n",
       "0  0.597678 -0.054291  1.233342  1.262255  0.603258   1  \n",
       "1 -0.400030 -0.725852 -0.344432 -0.594534 -0.183967   5  \n",
       "2 -0.662584  0.691889  0.356801 -0.175259 -0.236449   7  \n",
       "3  0.282612  1.438068  1.058033  0.842981  0.130923   3  \n",
       "4 -0.347519 -0.875088 -1.220973 -0.774223 -0.551339   5  \n",
       "\n",
       "[5 rows x 37 columns]"
      ]
     },
     "execution_count": 24,
     "metadata": {},
     "output_type": "execute_result"
    }
   ],
   "source": [
    "# Statlog (Landsat Satellite) Data Set\n",
    "### START CODE HERE ###\n",
    "# from google.colab import drive\n",
    "# drive.mount('/content/drive/')\n",
    "# %cd /content/drive/My Drive/Colab Notebooks/\n",
    "\n",
    "df = pd.read_csv('186_satimage.csv', header=None)\n",
    "df.head() "
   ]
  },
  {
   "cell_type": "code",
   "execution_count": 25,
   "metadata": {
    "colab": {
     "base_uri": "https://localhost:8080/"
    },
    "executionInfo": {
     "elapsed": 500,
     "status": "ok",
     "timestamp": 1633812784480,
     "user": {
      "displayName": "Omar Abu Hassan",
      "photoUrl": "https://lh3.googleusercontent.com/a/default-user=s64",
      "userId": "03712834313837095023"
     },
     "user_tz": -180
    },
    "id": "wa7aaVi9S3v0",
    "outputId": "972f715f-c13c-464c-e957-c461ed67f11f"
   },
   "outputs": [
    {
     "data": {
      "text/plain": [
       "(array([1, 5, 7, ..., 4, 4, 3], dtype=int64), (6430,))"
      ]
     },
     "execution_count": 25,
     "metadata": {},
     "output_type": "execute_result"
    }
   ],
   "source": [
    "Y = df[36]\n",
    "Y = Y.to_numpy()\n",
    "Y, Y.shape"
   ]
  },
  {
   "cell_type": "code",
   "execution_count": 26,
   "metadata": {
    "colab": {
     "base_uri": "https://localhost:8080/"
    },
    "executionInfo": {
     "elapsed": 4,
     "status": "ok",
     "timestamp": 1633812784480,
     "user": {
      "displayName": "Omar Abu Hassan",
      "photoUrl": "https://lh3.googleusercontent.com/a/default-user=s64",
      "userId": "03712834313837095023"
     },
     "user_tz": -180
    },
    "id": "iAfMgdkWS3v2",
    "outputId": "567fea61-05a8-49bf-f733-35c23468e070"
   },
   "outputs": [
    {
     "data": {
      "text/plain": [
       "(array([[ 0.117596,  1.241362,  1.184036, ...,  1.233342,  1.262255,\n",
       "          0.603258],\n",
       "        [-1.205362, -1.249654, -0.077532, ..., -0.344432, -0.594534,\n",
       "         -0.183967],\n",
       "        [ 0.779075,  0.148811,  0.042617, ...,  0.356801, -0.175259,\n",
       "         -0.236449],\n",
       "        ...,\n",
       "        [ 1.661048,  1.241362,  0.883663, ...,  0.093838, -0.295052,\n",
       "         -0.761265],\n",
       "        [ 0.117596, -0.200805, -0.858503, ..., -0.08147 , -0.534637,\n",
       "         -0.551339],\n",
       "        [ 1.661048,  1.41617 ,  1.36426 , ...,  1.145687,  0.783084,\n",
       "          0.498294]]),\n",
       " (6430, 36))"
      ]
     },
     "execution_count": 26,
     "metadata": {},
     "output_type": "execute_result"
    }
   ],
   "source": [
    "X = df.drop([36], axis=\"columns\")\n",
    "X = X.to_numpy()\n",
    "X, X.shape"
   ]
  },
  {
   "cell_type": "code",
   "execution_count": 27,
   "metadata": {
    "executionInfo": {
     "elapsed": 2,
     "status": "ok",
     "timestamp": 1633812784947,
     "user": {
      "displayName": "Omar Abu Hassan",
      "photoUrl": "https://lh3.googleusercontent.com/a/default-user=s64",
      "userId": "03712834313837095023"
     },
     "user_tz": -180
    },
    "id": "97eXRqeXS3v3"
   },
   "outputs": [],
   "source": [
    "# split data in 3 sets training, validation, test (70%, 15%, 15%)\n",
    "trainx, X_rem, trainy, y_rem = train_test_split(X,Y, train_size=0.7)\n",
    "valx, test_data, valy, test_labels = train_test_split(X_rem,y_rem, test_size=0.5)"
   ]
  },
  {
   "cell_type": "code",
   "execution_count": 28,
   "metadata": {
    "colab": {
     "base_uri": "https://localhost:8080/"
    },
    "executionInfo": {
     "elapsed": 2445,
     "status": "ok",
     "timestamp": 1633812787795,
     "user": {
      "displayName": "Omar Abu Hassan",
      "photoUrl": "https://lh3.googleusercontent.com/a/default-user=s64",
      "userId": "03712834313837095023"
     },
     "user_tz": -180
    },
    "id": "8Nm_3l5YS3v3",
    "outputId": "87340e79-3618-40f7-8705-41d0c877366b"
   },
   "outputs": [
    {
     "name": "stdout",
     "output_type": "stream",
     "text": [
      "              precision    recall  f1-score   support\n",
      "\n",
      "           1       0.97      0.97      0.97       234\n",
      "           2       0.98      0.98      0.98       114\n",
      "           3       0.88      0.94      0.91       195\n",
      "           4       0.69      0.59      0.63        99\n",
      "           5       0.92      0.84      0.87       104\n",
      "           7       0.86      0.90      0.88       218\n",
      "\n",
      "    accuracy                           0.90       964\n",
      "   macro avg       0.88      0.87      0.88       964\n",
      "weighted avg       0.89      0.90      0.90       964\n",
      "\n",
      "the best K is  {'n_neighbors': 2}\n",
      "              precision    recall  f1-score   support\n",
      "\n",
      "           1       0.97      0.98      0.98       224\n",
      "           2       0.95      0.96      0.96       112\n",
      "           3       0.83      0.96      0.89       204\n",
      "           4       0.70      0.64      0.67       102\n",
      "           5       0.86      0.83      0.84       100\n",
      "           7       0.93      0.83      0.87       223\n",
      "\n",
      "    accuracy                           0.89       965\n",
      "   macro avg       0.87      0.87      0.87       965\n",
      "weighted avg       0.89      0.89      0.89       965\n",
      "\n",
      "Brute Algo.--- 0.07579660415649414 seconds ---\n"
     ]
    }
   ],
   "source": [
    "#Brute Algo.\n",
    "ds2_clf1 = KNeighborsClassifier(algorithm = \"brute\")\n",
    "ds2_clf1.fit(trainx,trainy)\n",
    "y_val = ds2_clf1.predict(valx)\n",
    "print(classification_report(valy, y_val))\n",
    "ds2_clf1.get_params()\n",
    "\n",
    "#create a dictionary of all values we want to test for n_neighbors\n",
    "param_grid = {'n_neighbors': np.arange(1, 25)}\n",
    "#use gridsearch to test all values for n_neighbors\n",
    "ds2_clf1_gscv = GridSearchCV(ds2_clf1, param_grid, cv=5)\n",
    "\n",
    "ds2_clf1_gscv.fit(valx,valy)\n",
    "\n",
    "#check top performing n_neighbors value\n",
    "print(\"the best K is \",ds2_clf1_gscv.best_params_)\n",
    "#update k value\n",
    "ds2_clf1.set_params(**ds2_clf1_gscv.best_params_)\n",
    "ds2_clf1.fit(trainx,trainy)\n",
    "\n",
    "y_expect = test_labels\n",
    "start_time = time.time()\n",
    "y_pred = ds2_clf1.predict(test_data)\n",
    "print(classification_report(y_expect, y_pred))\n",
    "print(\"Brute Algo.--- %s seconds ---\" % (time.time() - start_time))"
   ]
  },
  {
   "cell_type": "code",
   "execution_count": 29,
   "metadata": {
    "colab": {
     "base_uri": "https://localhost:8080/"
    },
    "executionInfo": {
     "elapsed": 2401,
     "status": "ok",
     "timestamp": 1633812790191,
     "user": {
      "displayName": "Omar Abu Hassan",
      "photoUrl": "https://lh3.googleusercontent.com/a/default-user=s64",
      "userId": "03712834313837095023"
     },
     "user_tz": -180
    },
    "id": "h_A2qI5HS3v8",
    "outputId": "95473171-0840-4b6f-cf56-b6a31d734adf"
   },
   "outputs": [
    {
     "name": "stdout",
     "output_type": "stream",
     "text": [
      "              precision    recall  f1-score   support\n",
      "\n",
      "           1       0.97      0.97      0.97       234\n",
      "           2       0.98      0.98      0.98       114\n",
      "           3       0.88      0.94      0.91       195\n",
      "           4       0.69      0.59      0.63        99\n",
      "           5       0.92      0.84      0.87       104\n",
      "           7       0.86      0.90      0.88       218\n",
      "\n",
      "    accuracy                           0.90       964\n",
      "   macro avg       0.88      0.87      0.88       964\n",
      "weighted avg       0.89      0.90      0.90       964\n",
      "\n",
      "the best K is  {'n_neighbors': 2}\n",
      "              precision    recall  f1-score   support\n",
      "\n",
      "           1       0.97      0.98      0.98       224\n",
      "           2       0.95      0.96      0.96       112\n",
      "           3       0.83      0.96      0.89       204\n",
      "           4       0.70      0.64      0.67       102\n",
      "           5       0.86      0.83      0.84       100\n",
      "           7       0.93      0.83      0.87       223\n",
      "\n",
      "    accuracy                           0.89       965\n",
      "   macro avg       0.87      0.87      0.87       965\n",
      "weighted avg       0.89      0.89      0.89       965\n",
      "\n",
      "kd_tree Algo.--- 0.10272693634033203 seconds ---\n"
     ]
    }
   ],
   "source": [
    "#Brute Algo.\n",
    "ds2_clf2 = KNeighborsClassifier(algorithm = \"kd_tree\")\n",
    "ds2_clf2.fit(trainx,trainy)\n",
    "y_val = ds2_clf2.predict(valx)\n",
    "print(classification_report(valy, y_val))\n",
    "ds2_clf2.get_params()\n",
    "\n",
    "#create a dictionary of all values we want to test for n_neighbors\n",
    "param_grid = {'n_neighbors': np.arange(1, 25)}\n",
    "#use gridsearch to test all values for n_neighbors\n",
    "ds2_clf2_gscv = GridSearchCV(ds2_clf2, param_grid, cv=5)\n",
    "\n",
    "ds2_clf2_gscv.fit(valx,valy)\n",
    "\n",
    "#check top performing n_neighbors value\n",
    "print(\"the best K is \",ds2_clf2_gscv.best_params_)\n",
    "#update k value\n",
    "ds2_clf2.set_params(**ds2_clf2_gscv.best_params_)\n",
    "ds2_clf2.fit(trainx,trainy)\n",
    "\n",
    "y_expect = test_labels\n",
    "start_time = time.time()\n",
    "y_pred = ds2_clf2.predict(test_data)\n",
    "print(classification_report(y_expect, y_pred))\n",
    "print(\"kd_tree Algo.--- %s seconds ---\" % (time.time() - start_time))"
   ]
  },
  {
   "cell_type": "code",
   "execution_count": 30,
   "metadata": {
    "colab": {
     "base_uri": "https://localhost:8080/"
    },
    "executionInfo": {
     "elapsed": 2194,
     "status": "ok",
     "timestamp": 1633812792375,
     "user": {
      "displayName": "Omar Abu Hassan",
      "photoUrl": "https://lh3.googleusercontent.com/a/default-user=s64",
      "userId": "03712834313837095023"
     },
     "user_tz": -180
    },
    "id": "1hxdwNopS3v9",
    "outputId": "692f5963-1463-43b8-a69b-11d966af92dd"
   },
   "outputs": [
    {
     "name": "stdout",
     "output_type": "stream",
     "text": [
      "              precision    recall  f1-score   support\n",
      "\n",
      "           1       0.97      0.97      0.97       234\n",
      "           2       0.98      0.98      0.98       114\n",
      "           3       0.88      0.94      0.91       195\n",
      "           4       0.69      0.59      0.63        99\n",
      "           5       0.92      0.84      0.87       104\n",
      "           7       0.86      0.90      0.88       218\n",
      "\n",
      "    accuracy                           0.90       964\n",
      "   macro avg       0.88      0.87      0.88       964\n",
      "weighted avg       0.89      0.90      0.90       964\n",
      "\n",
      "the best K is  {'n_neighbors': 2}\n",
      "              precision    recall  f1-score   support\n",
      "\n",
      "           1       0.97      0.98      0.98       224\n",
      "           2       0.95      0.96      0.96       112\n",
      "           3       0.83      0.96      0.89       204\n",
      "           4       0.70      0.64      0.67       102\n",
      "           5       0.86      0.83      0.84       100\n",
      "           7       0.93      0.83      0.87       223\n",
      "\n",
      "    accuracy                           0.89       965\n",
      "   macro avg       0.87      0.87      0.87       965\n",
      "weighted avg       0.89      0.89      0.89       965\n",
      "\n",
      "ball_tree Algo.--- 0.09973359107971191 seconds ---\n"
     ]
    }
   ],
   "source": [
    "#Brute Algo.\n",
    "ds2_clf3 = KNeighborsClassifier(algorithm = \"ball_tree\")\n",
    "ds2_clf3.fit(trainx,trainy)\n",
    "y_val = ds2_clf3.predict(valx)\n",
    "print(classification_report(valy, y_val))\n",
    "ds2_clf3.get_params()\n",
    "\n",
    "#create a dictionary of all values we want to test for n_neighbors\n",
    "param_grid = {'n_neighbors': np.arange(1, 25)}\n",
    "#use gridsearch to test all values for n_neighbors\n",
    "ds2_clf3_gscv = GridSearchCV(ds2_clf3, param_grid, cv=5)\n",
    "\n",
    "ds2_clf3_gscv.fit(valx,valy)\n",
    "\n",
    "#check top performing n_neighbors value\n",
    "print(\"the best K is \",ds2_clf3_gscv.best_params_)\n",
    "#update k value\n",
    "ds2_clf3.set_params(**ds2_clf3_gscv.best_params_)\n",
    "ds2_clf3.fit(trainx,trainy)\n",
    "\n",
    "y_expect = test_labels\n",
    "start_time = time.time()\n",
    "y_pred = ds2_clf3.predict(test_data)\n",
    "print(classification_report(y_expect, y_pred))\n",
    "print(\"ball_tree Algo.--- %s seconds ---\" % (time.time() - start_time))"
   ]
  },
  {
   "cell_type": "markdown",
   "metadata": {
    "id": "X4LbY5Zf4bEb"
   },
   "source": [
    "## E1. Extra Stuff"
   ]
  },
  {
   "cell_type": "markdown",
   "metadata": {
    "id": "Ws-01Oh04bEb"
   },
   "source": [
    "You are invited to try some more ideas as extra work like:\n",
    "1. Instead of using the pixels as features, implement your own features (example: what were presented in the slides) and use them for KNN. You need to keep in mind that if you compute features which have different scales then it is important to scale/normalize the features (discussed in the slides)."
   ]
  },
  {
   "cell_type": "markdown",
   "metadata": {
    "id": "Eq55p8Jd4bEb"
   },
   "source": [
    "## Points to remember"
   ]
  },
  {
   "cell_type": "markdown",
   "metadata": {
    "id": "pi0mDN2n4bEb"
   },
   "source": [
    "You need to keep in mind the following points:\n",
    "1. Use numpy arrays and numpy libraries for efficient computations. "
   ]
  },
  {
   "cell_type": "code",
   "execution_count": null,
   "metadata": {
    "id": "MOyXPAOq4bEb"
   },
   "outputs": [],
   "source": []
  }
 ],
 "metadata": {
  "colab": {
   "name": "Assignment-1-PartA.ipynb",
   "toc_visible": true,
   "version": ""
  },
  "kernelspec": {
   "display_name": "Python 3",
   "language": "python",
   "name": "python3"
  },
  "language_info": {
   "codemirror_mode": {
    "name": "ipython",
    "version": 3
   },
   "file_extension": ".py",
   "mimetype": "text/x-python",
   "name": "python",
   "nbconvert_exporter": "python",
   "pygments_lexer": "ipython3",
   "version": "3.8.5"
  }
 },
 "nbformat": 4,
 "nbformat_minor": 1
}
